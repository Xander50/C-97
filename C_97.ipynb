{
  "nbformat": 4,
  "nbformat_minor": 0,
  "metadata": {
    "colab": {
      "provenance": [],
      "authorship_tag": "ABX9TyOImcj5yRBq9qTPMPZcGpyh",
      "include_colab_link": true
    },
    "kernelspec": {
      "name": "python3",
      "display_name": "Python 3"
    },
    "language_info": {
      "name": "python"
    }
  },
  "cells": [
    {
      "cell_type": "markdown",
      "metadata": {
        "id": "view-in-github",
        "colab_type": "text"
      },
      "source": [
        "<a href=\"https://colab.research.google.com/github/Xander50/C-97/blob/main/C_97.ipynb\" target=\"_parent\"><img src=\"https://colab.research.google.com/assets/colab-badge.svg\" alt=\"Open In Colab\"/></a>"
      ]
    },
    {
      "cell_type": "code",
      "execution_count": 1,
      "metadata": {
        "colab": {
          "base_uri": "https://localhost:8080/"
        },
        "id": "GD2ig5ajMXqW",
        "outputId": "9a66d26f-8898-4888-f368-b42eecd7babe"
      },
      "outputs": [
        {
          "output_type": "stream",
          "name": "stdout",
          "text": [
            "10\n"
          ]
        }
      ],
      "source": [
        "a=10\n",
        "print(a)"
      ]
    },
    {
      "cell_type": "code",
      "source": [
        "print(\"I am Alexander\")"
      ],
      "metadata": {
        "colab": {
          "base_uri": "https://localhost:8080/"
        },
        "id": "jSHHk6IfNUNK",
        "outputId": "04360960-ef36-4da8-fad4-a761c75aff24"
      },
      "execution_count": 2,
      "outputs": [
        {
          "output_type": "stream",
          "name": "stdout",
          "text": [
            "I am Alexander\n"
          ]
        }
      ]
    },
    {
      "cell_type": "code",
      "source": [
        "grade=9\n",
        "name=\"Alexander Jaramillo\"\n",
        "print(grade)\n",
        "type(grade)\n",
        "print(name)\n",
        "type(name)\n",
        "n1=6.8\n",
        "print(n1)\n",
        "type(n1)"
      ],
      "metadata": {
        "colab": {
          "base_uri": "https://localhost:8080/"
        },
        "id": "PlcsvoZQNbWq",
        "outputId": "4bf60dff-9b30-4cce-9532-8f98ea92e3db"
      },
      "execution_count": 6,
      "outputs": [
        {
          "output_type": "stream",
          "name": "stdout",
          "text": [
            "9\n",
            "Alexander Jaramillo\n",
            "6.8\n"
          ]
        },
        {
          "output_type": "execute_result",
          "data": {
            "text/plain": [
              "float"
            ]
          },
          "metadata": {},
          "execution_count": 6
        }
      ]
    },
    {
      "cell_type": "code",
      "source": [
        "def guess(num1,num2,choice):\n",
        "  result=0\n",
        "  if choice == '1':\n",
        "    result = num1+num2\n",
        "    print('what is ', num1, '+', num2, '?')\n",
        "    ans=int(input('>>'))\n",
        "    if(result==ans):\n",
        "      print('good job!')\n",
        "  elif choice == '2':\n",
        "    result = num1-num2\n",
        "    print('what is ', num1, '-', num2, '?')\n",
        "    ans=int(input('>>'))\n",
        "    if(result==ans):\n",
        "      print('good job!')\n",
        "  elif choice == '3':\n",
        "    result = num1*num2\n",
        "    print('what is ', num1, 'x', num2, '?')\n",
        "    ans=int(input('>>'))\n",
        "    if(result==ans):\n",
        "      print('good job!')   \n",
        "  elif choice == '4':\n",
        "    result = num1/num2\n",
        "    print('what is ', num1, '/', num2, '?')\n",
        "    ans=float(input('>>'))\n",
        "    if(result==ans):\n",
        "      print('good job!')    \n",
        "  else:\n",
        "    print(\"L plus RATIO plus YOU FELL OFF\")\n",
        "    print(\"the correct answer is:\",result)\n",
        "\n"
      ],
      "metadata": {
        "colab": {
          "base_uri": "https://localhost:8080/"
        },
        "id": "xC_K3xGFNakp",
        "outputId": "c72c811b-9b9d-472c-f920-a54a933e31fa"
      },
      "execution_count": 11,
      "outputs": [
        {
          "name": "stdout",
          "output_type": "stream",
          "text": [
            "choose operation from below\n",
            "1.Add\n",
            "2.Subtract\n",
            "3.Multiply\n",
            "4.Divide\n",
            "enter option number(1/2/3/4)3\n",
            "what is  7 x 6 ?\n",
            ">>584\n"
          ]
        }
      ]
    },
    {
      "cell_type": "code",
      "source": [
        "import random    \n",
        "print('choose operation from below')\n",
        "print('1.Add')\n",
        "print('2.Subtract')\n",
        "print('3.Multiply')\n",
        "print('4.Divide')\n",
        "\n",
        "choice=input('enter option number(1/2/3/4)')\n",
        "choices=('1','2','3','4')\n",
        "if choice in choices:\n",
        "  num1=random.randint(0,9)\n",
        "  num2=random.randint(0,9)\n",
        "\n",
        "  guess(num1,num2,choice)\n",
        "else:\n",
        "  print('invalid input')  "
      ],
      "metadata": {
        "colab": {
          "base_uri": "https://localhost:8080/"
        },
        "id": "BNCXWQpeT-T7",
        "outputId": "5234f9ca-e12f-4d37-edf8-2de2f66863e3"
      },
      "execution_count": 13,
      "outputs": [
        {
          "name": "stdout",
          "output_type": "stream",
          "text": [
            "choose operation from below\n",
            "1.Add\n",
            "2.Subtract\n",
            "3.Multiply\n",
            "4.Divide\n",
            "enter option number(1/2/3/4)4\n",
            "what is  0 / 8 ?\n",
            ">>2\n"
          ]
        }
      ]
    }
  ]
}